{
 "cells": [
  {
   "cell_type": "code",
   "execution_count": 2,
   "metadata": {},
   "outputs": [
    {
     "name": "stdout",
     "output_type": "stream",
     "text": [
      "C:\\Users\\aliro\\OneDrive\\Documents\\Courses\\NN\\data\n"
     ]
    }
   ],
   "source": [
    "import numpy as np\n",
    "import os, glob\n",
    "import pandas as pd\n",
    "import re\n",
    "import itertools\n",
    "from io import StringIO\n",
    "from collections import Counter\n",
    "#%cd \"data directory containing train/test folders\"\n",
    "#os.getcwd()"
   ]
  },
  {
   "cell_type": "code",
   "execution_count": 9,
   "metadata": {
    "scrolled": true
   },
   "outputs": [],
   "source": [
    "def getLabel(folder):\n",
    "    names = os.listdir(folder)\n",
    "    n_names = len(names)\n",
    "    label = np.zeros(n_names)\n",
    "    for i in range(n_names):\n",
    "        label[i] = int(re.split('_|\\.', names[i])[0])\n",
    "    return label"
   ]
  },
  {
   "cell_type": "code",
   "execution_count": 10,
   "metadata": {},
   "outputs": [],
   "source": [
    "# reshape data matrix\n",
    "\n",
    "def b2vM(folder):\n",
    "    for i, files in enumerate(os.listdir(os.path.join(os.getcwd(), folder))):\n",
    "        with open(os.path.join(folder, files)) as f:\n",
    "            temp = f.read()\n",
    "            n = len(temp.splitlines())\n",
    "            data = pd.read_fwf(StringIO(temp), widths=[1] * n, header=None).to_numpy()\n",
    "            p = np.shape(data)[1]\n",
    "            out = data.reshape(1, (n*p))\n",
    "            if i == 0:\n",
    "                output = out\n",
    "            else:\n",
    "                output = np.vstack((output, out))\n",
    "    return output"
   ]
  },
  {
   "cell_type": "code",
   "execution_count": 11,
   "metadata": {},
   "outputs": [],
   "source": [
    "# compute distance w/ l2 norm\n",
    "\n",
    "def distV(tr, tt):\n",
    "    n_tr = tr.shape[0]\n",
    "    n_tt = tt.shape[0]\n",
    "    dist = np.zeros((n_tt, n_tr))\n",
    "    # vectorized computation to form dist matrix\n",
    "    dist = np.sqrt((tt**2).sum(axis=1)[:, np.newaxis] + (tr**2).sum(axis=1) - 2 * tt.dot(tr.T))\n",
    "    return dist        "
   ]
  },
  {
   "cell_type": "code",
   "execution_count": 12,
   "metadata": {},
   "outputs": [],
   "source": [
    "def knncls(tr, tt, k):\n",
    "    # initialization\n",
    "    train = b2vM(tr)\n",
    "    n_tr = np.shape(train)[0]\n",
    "    y_tr = getLabel(tr)\n",
    "    test = b2vM(tt)\n",
    "    n_tt = np.shape(test)[0]\n",
    "    y_tt = getLabel(tt)\n",
    "    \n",
    "    # compute dist\n",
    "    dist = distV(train, test)\n",
    "    dist_id = dist.argsort()[:, :k]\n",
    "    \n",
    "    # get predicted labels\n",
    "    y_tr_rep = np.tile(y_tr, (np.shape(dist_id)[0], 1))\n",
    "    y_trf = np.take_along_axis(y_tr_rep, dist_id, axis=1)\n",
    "    u, indices = np.unique(y_trf, return_inverse=True)\n",
    "    label_fit = u[np.argmax(np.apply_along_axis(np.bincount, 1, indices.reshape(y_trf.shape), None, np.max(indices) + 1), axis=1)]\n",
    "    \n",
    "    #compute/return prediction & error rate\n",
    "    error_rate = 1 - sum(label_fit == y_tt)/n_tt\n",
    "    return label_fit, error_rate"
   ]
  },
  {
   "cell_type": "code",
   "execution_count": 13,
   "metadata": {
    "scrolled": true
   },
   "outputs": [],
   "source": [
    "k = 10\n",
    "result = knncls('trainingDigits', 'testDigits', k=k)"
   ]
  },
  {
   "cell_type": "code",
   "execution_count": 14,
   "metadata": {},
   "outputs": [
    {
     "name": "stdout",
     "output_type": "stream",
     "text": [
      "the error rate for 10-nearest neighbor is 0.024312896405919715\n"
     ]
    }
   ],
   "source": [
    "print(\"the error rate for \"+str(k)+\"-nearest neighbor is\", result[1])"
   ]
  },
  {
   "cell_type": "code",
   "execution_count": 92,
   "metadata": {},
   "outputs": [],
   "source": [
    "# n fold cross validation with stratified sampling\n",
    "from sklearn.model_selection import StratifiedKFold\n",
    "\n",
    "k_cv = np.array([5, 10, 20, 30, 40, 50])\n",
    "\n",
    "x_cv = b2vM('trainingDigits')\n",
    "y_cv = getLabel('trainingDigits')"
   ]
  },
  {
   "cell_type": "code",
   "execution_count": 93,
   "metadata": {},
   "outputs": [],
   "source": [
    "def knnclsCV(x, y, k_choice, n_fold):\n",
    "    st = StratifiedKFold(n_splits=n_fold)\n",
    "    n_k = len(k_choice)\n",
    "    error_rate = np.zeros((n_fold, n_k))\n",
    "    for j in range(n_k):\n",
    "            k = k_choice[j]\n",
    "            for i, (train_index, test_index) in enumerate(st.split(x, y)):\n",
    "                x_train, x_test = x[train_index], x[test_index]\n",
    "                y_train, y_test = y[train_index], y[test_index]\n",
    "                dist = distV(x_train, x_test)\n",
    "                dist_id = dist.argsort()[:, :k]\n",
    "                y_tr_rep = np.tile(y_train, (np.shape(dist_id)[0], 1))\n",
    "                y_trf = np.take_along_axis(y_tr_rep, dist_id, axis=1)\n",
    "                u, indices = np.unique(y_trf, return_inverse=True)\n",
    "                label_fit = u[np.argmax(np.apply_along_axis(np.bincount, 1, indices.reshape(y_trf.shape), None, np.max(indices) + 1), axis=1)]\n",
    "                error_rate[i, j] = 1 - sum(label_fit == y_test)/len(y_test)\n",
    "                print(\"computing error rate for fold\",str(i+1),\"k =\"+str(k_choice[j]))\n",
    "    return error_rate"
   ]
  },
  {
   "cell_type": "code",
   "execution_count": 94,
   "metadata": {},
   "outputs": [
    {
     "name": "stdout",
     "output_type": "stream",
     "text": [
      "computing error rate for fold 1 k =1\n",
      "computing error rate for fold 2 k =1\n",
      "computing error rate for fold 3 k =1\n",
      "computing error rate for fold 4 k =1\n",
      "computing error rate for fold 5 k =1\n",
      "computing error rate for fold 1 k =5\n",
      "computing error rate for fold 2 k =5\n",
      "computing error rate for fold 3 k =5\n",
      "computing error rate for fold 4 k =5\n",
      "computing error rate for fold 5 k =5\n",
      "computing error rate for fold 1 k =10\n",
      "computing error rate for fold 2 k =10\n",
      "computing error rate for fold 3 k =10\n",
      "computing error rate for fold 4 k =10\n",
      "computing error rate for fold 5 k =10\n",
      "computing error rate for fold 1 k =20\n",
      "computing error rate for fold 2 k =20\n",
      "computing error rate for fold 3 k =20\n",
      "computing error rate for fold 4 k =20\n",
      "computing error rate for fold 5 k =20\n",
      "computing error rate for fold 1 k =30\n",
      "computing error rate for fold 2 k =30\n",
      "computing error rate for fold 3 k =30\n",
      "computing error rate for fold 4 k =30\n",
      "computing error rate for fold 5 k =30\n",
      "computing error rate for fold 1 k =40\n",
      "computing error rate for fold 2 k =40\n",
      "computing error rate for fold 3 k =40\n",
      "computing error rate for fold 4 k =40\n",
      "computing error rate for fold 5 k =40\n",
      "computing error rate for fold 1 k =50\n",
      "computing error rate for fold 2 k =50\n",
      "computing error rate for fold 3 k =50\n",
      "computing error rate for fold 4 k =50\n",
      "computing error rate for fold 5 k =50\n",
      "computing error rate for fold 1 k =60\n",
      "computing error rate for fold 2 k =60\n",
      "computing error rate for fold 3 k =60\n",
      "computing error rate for fold 4 k =60\n",
      "computing error rate for fold 5 k =60\n",
      "computing error rate for fold 1 k =70\n",
      "computing error rate for fold 2 k =70\n",
      "computing error rate for fold 3 k =70\n",
      "computing error rate for fold 4 k =70\n",
      "computing error rate for fold 5 k =70\n"
     ]
    }
   ],
   "source": [
    "error_CV = knnclsCV(x_cv, y_cv, k_cv, 5)"
   ]
  },
  {
   "cell_type": "code",
   "execution_count": 100,
   "metadata": {},
   "outputs": [
    {
     "name": "stdout",
     "output_type": "stream",
     "text": [
      "the optimal k = 5\n"
     ]
    }
   ],
   "source": [
    "best_k = error_CV.mean(axis = 0).argsort()\n",
    "print(\"the optimal k =\",str(k_cv[best_k][1]))\n",
    "\n",
    "# error rate loosely bounded by double Bayes risk:\n",
    "#(2BR - [Class/(1 - Class)]BR^2) when n --> inf (Cover & Hart 1967)\n",
    "# massive adaptive knn methods were proposed, a more specific review check (G.H. Chen and D. Shah 2018)"
   ]
  }
 ],
 "metadata": {
  "kernelspec": {
   "display_name": "Python 3",
   "language": "python",
   "name": "python3"
  },
  "language_info": {
   "codemirror_mode": {
    "name": "ipython",
    "version": 3
   },
   "file_extension": ".py",
   "mimetype": "text/x-python",
   "name": "python",
   "nbconvert_exporter": "python",
   "pygments_lexer": "ipython3",
   "version": "3.8.3"
  }
 },
 "nbformat": 4,
 "nbformat_minor": 4
}
